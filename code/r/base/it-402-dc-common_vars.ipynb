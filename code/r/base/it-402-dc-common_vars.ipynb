{
 "cells": [
  {
   "cell_type": "code",
   "execution_count": 1,
   "metadata": {},
   "outputs": [
    {
     "name": "stderr",
     "output_type": "stream",
     "text": [
      "── \u001b[1mAttaching packages\u001b[22m ────────────────────────────────────────────────── tidyverse 1.3.0 ──\n",
      "\n",
      "\u001b[32m✔\u001b[39m \u001b[34mggplot2\u001b[39m 3.3.2     \u001b[32m✔\u001b[39m \u001b[34mpurrr  \u001b[39m 0.3.4\n",
      "\u001b[32m✔\u001b[39m \u001b[34mtibble \u001b[39m 3.0.4     \u001b[32m✔\u001b[39m \u001b[34mdplyr  \u001b[39m 1.0.2\n",
      "\u001b[32m✔\u001b[39m \u001b[34mtidyr  \u001b[39m 1.1.2     \u001b[32m✔\u001b[39m \u001b[34mstringr\u001b[39m 1.4.0\n",
      "\u001b[32m✔\u001b[39m \u001b[34mreadr  \u001b[39m 1.4.0     \u001b[32m✔\u001b[39m \u001b[34mforcats\u001b[39m 0.5.0\n",
      "\n",
      "── \u001b[1mConflicts\u001b[22m ───────────────────────────────────────────────────── tidyverse_conflicts() ──\n",
      "\u001b[31m✖\u001b[39m \u001b[34mdplyr\u001b[39m::\u001b[32mfilter()\u001b[39m masks \u001b[34mstats\u001b[39m::filter()\n",
      "\u001b[31m✖\u001b[39m \u001b[34mdplyr\u001b[39m::\u001b[32mlag()\u001b[39m    masks \u001b[34mstats\u001b[39m::lag()\n",
      "\n"
     ]
    }
   ],
   "source": [
    "library(tidyverse)"
   ]
  },
  {
   "cell_type": "code",
   "execution_count": 3,
   "metadata": {},
   "outputs": [
    {
     "data": {
      "text/html": [
       "<style>\n",
       ".dl-inline {width: auto; margin:0; padding: 0}\n",
       ".dl-inline>dt, .dl-inline>dd {float: none; width: auto; display: inline-block}\n",
       ".dl-inline>dt::after {content: \":\\0020\"; padding-right: .5ex}\n",
       ".dl-inline>dt:not(:first-of-type) {padding-left: .5ex}\n",
       "</style><dl class=dl-inline><dt>focus</dt><dd>'maroon'</dd><dt>other</dt><dd>'black'</dd></dl>\n"
      ],
      "text/latex": [
       "\\begin{description*}\n",
       "\\item[focus] 'maroon'\n",
       "\\item[other] 'black'\n",
       "\\end{description*}\n"
      ],
      "text/markdown": [
       "focus\n",
       ":   'maroon'other\n",
       ":   'black'\n",
       "\n"
      ],
      "text/plain": [
       "   focus    other \n",
       "\"maroon\"  \"black\" "
      ]
     },
     "metadata": {},
     "output_type": "display_data"
    },
    {
     "data": {
      "text/html": [
       "<table>\n",
       "<caption>A spec_tbl_df: 17 × 5</caption>\n",
       "<thead>\n",
       "\t<tr><th scope=col>QualificationId</th><th scope=col>QualificationTitle</th><th scope=col>SCQFLevel</th><th scope=col>DataStartYear</th><th scope=col>DataEndYear</th></tr>\n",
       "\t<tr><th scope=col>&lt;chr&gt;</th><th scope=col>&lt;chr&gt;</th><th scope=col>&lt;chr&gt;</th><th scope=col>&lt;chr&gt;</th><th scope=col>&lt;chr&gt;</th></tr>\n",
       "</thead>\n",
       "<tbody>\n",
       "\t<tr><td>Higher            </td><td>Higher                            </td><td>6   </td><td>1986     </td><td>NA       </td></tr>\n",
       "\t<tr><td>AdvancedHigher    </td><td>Advanced Higher                   </td><td>7   </td><td>2001     </td><td>NA       </td></tr>\n",
       "\t<tr><td>OrdinaryGrade     </td><td>Ordinary Grade                    </td><td>5   </td><td>1986     </td><td>1994     </td></tr>\n",
       "\t<tr><td>NewHigher         </td><td>New Higher                        </td><td>6   </td><td>2000;2015</td><td>2002;2015</td></tr>\n",
       "\t<tr><td>StandardGrade     </td><td>Standard Grade                    </td><td>5   </td><td>1986     </td><td>2013     </td></tr>\n",
       "\t<tr><td>CSYS              </td><td>Certiificate of Sixth Year Studies</td><td>7   </td><td>1986     </td><td>2002     </td></tr>\n",
       "\t<tr><td>HigherNational    </td><td>Higher National                   </td><td>NA  </td><td>NA       </td><td>NA       </td></tr>\n",
       "\t<tr><td>HNCS              </td><td>Higher National Certificate       </td><td>7   </td><td>NA       </td><td>NA       </td></tr>\n",
       "\t<tr><td>HNDS              </td><td>Higher National Diploma           </td><td>8   </td><td>NA       </td><td>NA       </td></tr>\n",
       "\t<tr><td>HigherNationalUnit</td><td>Higher National Unit              </td><td>NA  </td><td>NA       </td><td>NA       </td></tr>\n",
       "\t<tr><td>HNPDA             </td><td>Professional Development Award    </td><td>6-12</td><td>NA       </td><td>NA       </td></tr>\n",
       "\t<tr><td>National5         </td><td>National 5                        </td><td>5   </td><td>2014     </td><td>NA       </td></tr>\n",
       "\t<tr><td>National4         </td><td>National 4                        </td><td>4   </td><td>2014     </td><td>NA       </td></tr>\n",
       "\t<tr><td>National3         </td><td>National 3                        </td><td>3   </td><td>2014     </td><td>NA       </td></tr>\n",
       "\t<tr><td>National2         </td><td>National 2                        </td><td>2   </td><td>2014     </td><td>NA       </td></tr>\n",
       "\t<tr><td>Intermediate1     </td><td>Intermediate 1                    </td><td>4   </td><td>2000     </td><td>2015     </td></tr>\n",
       "\t<tr><td>Intermediate2     </td><td>Intermediate 2                    </td><td>5   </td><td>2000     </td><td>2015     </td></tr>\n",
       "</tbody>\n",
       "</table>\n"
      ],
      "text/latex": [
       "A spec\\_tbl\\_df: 17 × 5\n",
       "\\begin{tabular}{lllll}\n",
       " QualificationId & QualificationTitle & SCQFLevel & DataStartYear & DataEndYear\\\\\n",
       " <chr> & <chr> & <chr> & <chr> & <chr>\\\\\n",
       "\\hline\n",
       "\t Higher             & Higher                             & 6    & 1986      & NA       \\\\\n",
       "\t AdvancedHigher     & Advanced Higher                    & 7    & 2001      & NA       \\\\\n",
       "\t OrdinaryGrade      & Ordinary Grade                     & 5    & 1986      & 1994     \\\\\n",
       "\t NewHigher          & New Higher                         & 6    & 2000;2015 & 2002;2015\\\\\n",
       "\t StandardGrade      & Standard Grade                     & 5    & 1986      & 2013     \\\\\n",
       "\t CSYS               & Certiificate of Sixth Year Studies & 7    & 1986      & 2002     \\\\\n",
       "\t HigherNational     & Higher National                    & NA   & NA        & NA       \\\\\n",
       "\t HNCS               & Higher National Certificate        & 7    & NA        & NA       \\\\\n",
       "\t HNDS               & Higher National Diploma            & 8    & NA        & NA       \\\\\n",
       "\t HigherNationalUnit & Higher National Unit               & NA   & NA        & NA       \\\\\n",
       "\t HNPDA              & Professional Development Award     & 6-12 & NA        & NA       \\\\\n",
       "\t National5          & National 5                         & 5    & 2014      & NA       \\\\\n",
       "\t National4          & National 4                         & 4    & 2014      & NA       \\\\\n",
       "\t National3          & National 3                         & 3    & 2014      & NA       \\\\\n",
       "\t National2          & National 2                         & 2    & 2014      & NA       \\\\\n",
       "\t Intermediate1      & Intermediate 1                     & 4    & 2000      & 2015     \\\\\n",
       "\t Intermediate2      & Intermediate 2                     & 5    & 2000      & 2015     \\\\\n",
       "\\end{tabular}\n"
      ],
      "text/markdown": [
       "\n",
       "A spec_tbl_df: 17 × 5\n",
       "\n",
       "| QualificationId &lt;chr&gt; | QualificationTitle &lt;chr&gt; | SCQFLevel &lt;chr&gt; | DataStartYear &lt;chr&gt; | DataEndYear &lt;chr&gt; |\n",
       "|---|---|---|---|---|\n",
       "| Higher             | Higher                             | 6    | 1986      | NA        |\n",
       "| AdvancedHigher     | Advanced Higher                    | 7    | 2001      | NA        |\n",
       "| OrdinaryGrade      | Ordinary Grade                     | 5    | 1986      | 1994      |\n",
       "| NewHigher          | New Higher                         | 6    | 2000;2015 | 2002;2015 |\n",
       "| StandardGrade      | Standard Grade                     | 5    | 1986      | 2013      |\n",
       "| CSYS               | Certiificate of Sixth Year Studies | 7    | 1986      | 2002      |\n",
       "| HigherNational     | Higher National                    | NA   | NA        | NA        |\n",
       "| HNCS               | Higher National Certificate        | 7    | NA        | NA        |\n",
       "| HNDS               | Higher National Diploma            | 8    | NA        | NA        |\n",
       "| HigherNationalUnit | Higher National Unit               | NA   | NA        | NA        |\n",
       "| HNPDA              | Professional Development Award     | 6-12 | NA        | NA        |\n",
       "| National5          | National 5                         | 5    | 2014      | NA        |\n",
       "| National4          | National 4                         | 4    | 2014      | NA        |\n",
       "| National3          | National 3                         | 3    | 2014      | NA        |\n",
       "| National2          | National 2                         | 2    | 2014      | NA        |\n",
       "| Intermediate1      | Intermediate 1                     | 4    | 2000      | 2015      |\n",
       "| Intermediate2      | Intermediate 2                     | 5    | 2000      | 2015      |\n",
       "\n"
      ],
      "text/plain": [
       "   QualificationId    QualificationTitle                 SCQFLevel\n",
       "1  Higher             Higher                             6        \n",
       "2  AdvancedHigher     Advanced Higher                    7        \n",
       "3  OrdinaryGrade      Ordinary Grade                     5        \n",
       "4  NewHigher          New Higher                         6        \n",
       "5  StandardGrade      Standard Grade                     5        \n",
       "6  CSYS               Certiificate of Sixth Year Studies 7        \n",
       "7  HigherNational     Higher National                    NA       \n",
       "8  HNCS               Higher National Certificate        7        \n",
       "9  HNDS               Higher National Diploma            8        \n",
       "10 HigherNationalUnit Higher National Unit               NA       \n",
       "11 HNPDA              Professional Development Award     6-12     \n",
       "12 National5          National 5                         5        \n",
       "13 National4          National 4                         4        \n",
       "14 National3          National 3                         3        \n",
       "15 National2          National 2                         2        \n",
       "16 Intermediate1      Intermediate 1                     4        \n",
       "17 Intermediate2      Intermediate 2                     5        \n",
       "   DataStartYear DataEndYear\n",
       "1  1986          NA         \n",
       "2  2001          NA         \n",
       "3  1986          1994       \n",
       "4  2000;2015     2002;2015  \n",
       "5  1986          2013       \n",
       "6  1986          2002       \n",
       "7  NA            NA         \n",
       "8  NA            NA         \n",
       "9  NA            NA         \n",
       "10 NA            NA         \n",
       "11 NA            NA         \n",
       "12 2014          NA         \n",
       "13 2014          NA         \n",
       "14 2014          NA         \n",
       "15 2014          NA         \n",
       "16 2000          2015       \n",
       "17 2000          2015       "
      ]
     },
     "metadata": {},
     "output_type": "display_data"
    }
   ],
   "source": [
    "focus_subject <- \"computing\" # use a vector for multiple patterns\n",
    "default_highlights <- c(\"focus\" = \"maroon\", \"other\" = \"black\")\n",
    "default_highlights\n",
    "\n",
    "gender_options <- c(\"male-\", \"female-\", \"NotKnown-\", \"NA-\", \"NotApplicable-\")\n",
    "\n",
    "\n",
    "redundant_column_flags <- c(\"-Passes\", \"-percentage*\", \"-COMP\", \"-PassesUngradedCourses\")\n",
    "\n",
    "path_to_file_store <- \"sta_it_402/data\"\n",
    "\n",
    "# todo - complete and include levels - \n",
    "sqa_qualification_list <- read_csv(\"sta_it_402/data/demographic_data/sqa_qualifications.csv\", trim_ws = T) %>%\n",
    "                            suppressMessages()\n",
    "sqa_qualification_list\n",
    "\n",
    "base_year <- 1986"
   ]
  },
  {
   "cell_type": "code",
   "execution_count": null,
   "metadata": {},
   "outputs": [],
   "source": []
  }
 ],
 "metadata": {
  "kernelspec": {
   "display_name": "R",
   "language": "R",
   "name": "ir"
  },
  "language_info": {
   "codemirror_mode": "r",
   "file_extension": ".r",
   "mimetype": "text/x-r-source",
   "name": "R",
   "pygments_lexer": "r",
   "version": "3.6.3"
  }
 },
 "nbformat": 4,
 "nbformat_minor": 4
}
